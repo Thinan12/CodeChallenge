{
  "nbformat": 4,
  "nbformat_minor": 0,
  "metadata": {
    "colab": {
      "provenance": []
    },
    "kernelspec": {
      "name": "python3",
      "display_name": "Python 3"
    },
    "language_info": {
      "name": "python"
    }
  },
  "cells": [
    {
      "cell_type": "code",
      "source": [
        "import csv\n",
        "import requests\n",
        "import logging\n",
        "import os\n",
        "\n",
        "# Directory and file paths\n",
        "\n",
        "BASE_DIR = \"/content/drive/MyDrive/CodeChallenge\"\n",
        "os.makedirs(BASE_DIR, exist_ok=True)\n",
        "\n",
        "CSV_FILE_PATH = os.path.join(BASE_DIR, \"users.csv\")\n",
        "LOG_FILE_PATH = os.path.join(BASE_DIR, \"error_log.txt\")\n",
        "\n",
        "# Setup a custom logger instead of using root\n",
        "logger = logging.getLogger(\"user_creation_logger\")\n",
        "logger.setLevel(logging.ERROR)\n",
        "\n",
        "# Clear previous handlers if script is run multiple times (important in notebooks)\n",
        "if logger.hasHandlers():\n",
        "    logger.handlers.clear()\n",
        "\n",
        "# Create file handler\n",
        "file_handler = logging.FileHandler(LOG_FILE_PATH)\n",
        "file_handler.setLevel(logging.ERROR)\n",
        "\n",
        "# Formatter for log lines\n",
        "formatter = logging.Formatter('%(asctime)s - %(levelname)s - %(message)s')\n",
        "file_handler.setFormatter(formatter)\n",
        "\n",
        "# Add the handler\n",
        "logger.addHandler(file_handler)\n",
        "\n",
        "# Mock API endpoint\n",
        "API_ENDPOINT = \"https://example.com/api/create_user\"  # Replace with the actual API endpoint\n",
        "\n",
        "# Validate email format\n",
        "def is_valid_email(email):\n",
        "    return \"@\" in email and \".\" in email\n",
        "\n",
        "# Function to check if the user data is valid (email and role are required)\n",
        "def is_valid_user(row):\n",
        "    return bool(row.get(\"email\")) and bool(row.get(\"role\")) and is_valid_email(row[\"email\"])\n",
        "\n",
        "# Function to create user via API call\n",
        "def create_user(user_data):\n",
        "    try:\n",
        "        response = requests.post(API_ENDPOINT, json=user_data)\n",
        "        if response.status_code != 201:\n",
        "            logger.error(f\"Failed to create user {user_data.get('email', 'N/A')} - Status {response.status_code}\")\n",
        "    except Exception as e:\n",
        "        logger.error(f\"Exception while creating user {user_data.get('email', 'N/A')}: {str(e)}\")\n",
        "\n",
        "# Process the CSV file and create users\n",
        "def process_csv(file_path):\n",
        "    try:\n",
        "        with open(file_path, 'r', newline='') as f:\n",
        "            reader = csv.DictReader(f)\n",
        "            for row in reader:\n",
        "                # 1. Skip rows with missing email or role\n",
        "                if not is_valid_user(row):\n",
        "                    logger.error(f\"Skipping row with missing or invalid fields: {row}\")\n",
        "                    continue\n",
        "\n",
        "                # 2. Create the user\n",
        "                create_user(row)\n",
        "    except FileNotFoundError:\n",
        "        logger.error(f\"CSV file '{file_path}' not found.\")\n",
        "    except Exception as e:\n",
        "        logger.error(f\"Unexpected error while reading CSV: {str(e)}\")\n",
        "\n",
        "if __name__ == \"__main__\":\n",
        "    process_csv(CSV_FILE_PATH)\n",
        "\n",
        "    if os.path.exists(LOG_FILE_PATH) and os.path.getsize(LOG_FILE_PATH) > 0:\n",
        "        print(f\"✅ Errors were logged to: {LOG_FILE_PATH}\")\n",
        "    else:\n",
        "        print(\"✅ No errors logged. Everything worked fine.\")\n"
      ],
      "metadata": {
        "colab": {
          "base_uri": "https://localhost:8080/"
        },
        "id": "N60aoRCpP3J0",
        "outputId": "bce0be2a-b859-417b-8f42-bb5360bd4891"
      },
      "execution_count": 10,
      "outputs": [
        {
          "output_type": "stream",
          "name": "stderr",
          "text": [
            "ERROR:user_creation_logger:Failed to create user alice@example.com - Status 403\n",
            "ERROR:user_creation_logger:Skipping row with missing or invalid fields: {'name': 'Bob', 'email': '', 'role': 'user'}\n",
            "ERROR:user_creation_logger:Failed to create user charlie@example.com - Status 403\n",
            "ERROR:user_creation_logger:Failed to create user david@example.com - Status 403\n",
            "ERROR:user_creation_logger:Skipping row with missing or invalid fields: {'name': 'Eve', 'email': 'eve@example', 'role': 'manager'}\n",
            "ERROR:user_creation_logger:Failed to create user frank@example.com - Status 403\n",
            "ERROR:user_creation_logger:Skipping row with missing or invalid fields: {'name': 'Grace', 'email': 'grace@example.com', 'role': ''}\n",
            "ERROR:user_creation_logger:Skipping row with missing or invalid fields: {'name': '', 'email': ' ', 'role': ' '}\n",
            "ERROR:user_creation_logger:Failed to create user hannah@example.com - Status 403\n",
            "ERROR:user_creation_logger:Failed to create user igor@example.com - Status 403\n",
            "ERROR:user_creation_logger:Failed to create user jack@example.com - Status 403\n",
            "ERROR:user_creation_logger:Skipping row with missing or invalid fields: {'name': '', 'email': ' ', 'role': ' '}\n",
            "ERROR:user_creation_logger:Failed to create user lily@example.com - Status 403\n",
            "ERROR:user_creation_logger:Skipping row with missing or invalid fields: {'name': 'Megan', 'email': '', 'role': 'admin'}\n"
          ]
        },
        {
          "output_type": "stream",
          "name": "stdout",
          "text": [
            "✅ Errors were logged to: /content/drive/MyDrive/CodeChallenge/error_log.txt\n"
          ]
        }
      ]
    },
    {
      "cell_type": "code",
      "source": [],
      "metadata": {
        "id": "Z-5ORPvrRXSO"
      },
      "execution_count": null,
      "outputs": []
    }
  ]
}